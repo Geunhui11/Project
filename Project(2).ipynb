{
 "cells": [
  {
   "cell_type": "code",
   "execution_count": 1,
   "id": "0cecaa44",
   "metadata": {},
   "outputs": [],
   "source": [
    "from matplotlib import pyplot as plt\n",
    "from matplotlib import animation\n",
    "import math"
   ]
  },
  {
   "cell_type": "code",
   "execution_count": 2,
   "id": "174d92be",
   "metadata": {},
   "outputs": [],
   "source": [
    "g = 9.80665"
   ]
  },
  {
   "cell_type": "code",
   "execution_count": 3,
   "id": "6a91e804",
   "metadata": {},
   "outputs": [],
   "source": [
    "def get_intervals(u,theta):\n",
    "    t_flight = 2*u*math.sin(theta)/g\n",
    "    intervals = []\n",
    "    start = 0\n",
    "    interval = 0.005\n",
    "    while start < t_flight:\n",
    "        intervals.append(start)\n",
    "        start = start + interval\n",
    "    return intervals"
   ]
  },
  {
   "cell_type": "code",
   "execution_count": 4,
   "id": "c10eb51c",
   "metadata": {},
   "outputs": [],
   "source": [
    "def new_position(k, circle, intervals, u, theta):\n",
    "    t = intervals[k]\n",
    "    x = u*math.cos(theta)*t\n",
    "    y = u*math.sin(theta)*t - 0.5*g*(t**2)\n",
    "    circle.center = x,y\n",
    "    \n",
    "    return circle"
   ]
  },
  {
   "cell_type": "code",
   "execution_count": 5,
   "id": "b7fd9a7c",
   "metadata": {},
   "outputs": [],
   "source": [
    "def construct_animation(u,theta):\n",
    "    intervals = get_intervals(u,theta)\n",
    "    x_min = 0\n",
    "    x_max = u*math.cos(theta)*intervals[-1]\n",
    "    y_min = 0\n",
    "    t_max = u*math.sin(theta)/g\n",
    "    y_max = u*math.sin(theta)*t_max - 0.5*g*(t_max**2)\n",
    "    \n",
    "    fig = plt.gcf()\n",
    "    ax = plt.axes(xlim = (x_min, x_max), ylim = (y_min, y_max))\n",
    "    circle = plt.Circle((x_min, y_min), 1.0)\n",
    "    ax.add_patch(circle)\n",
    "    \n",
    "    ani = animation.FuncAnimation(fig, new_position, fargs = (circle, intervals, u, theta), frames = len(intervals), interval = 5, repeat = False)\n",
    "    \n",
    "    plt.title('Parabolic Motion')\n",
    "    plt.xlabel('x_coordinate')\n",
    "    plt.ylabel('y_coordinate')\n",
    "    \n",
    "    ani.save('animation.gif', writer='pillow')\n",
    "    plt.show()\n",
    "    "
   ]
  },
  {
   "cell_type": "code",
   "execution_count": 6,
   "id": "105ba9eb",
   "metadata": {},
   "outputs": [
    {
     "name": "stdout",
     "output_type": "stream",
     "text": [
      "what is the initial velocity?40\n",
      "what is the angle of projection(degrees)?50\n"
     ]
    },
    {
     "data": {
      "image/png": "[encoded data removed]",
      "text/plain": [
       "<Figure size 640x480 with 1 Axes>"
      ]
     },
     "metadata": {},
     "output_type": "display_data"
    }
   ],
   "source": [
    "if __name__ == '__main__':\n",
    "    try:\n",
    "        u = float(input('what is the initial velocity?'))\n",
    "        theta = float(input('what is the angle of projection(degrees)?'))\n",
    "    except ValueError:\n",
    "        print('try again!')\n",
    "    else:\n",
    "        theta = math.radians(theta)\n",
    "        construct_animation(u,theta)"
   ]
  },
  {
   "cell_type": "code",
   "execution_count": null,
   "id": "ce92da12",
   "metadata": {},
   "outputs": [],
   "source": []
  }
 ],
 "metadata": {
  "kernelspec": {
   "display_name": "Python 3 (ipykernel)",
   "language": "python",
   "name": "python3"
  },
  "language_info": {
   "codemirror_mode": {
    "name": "ipython",
    "version": 3
   },
   "file_extension": ".py",
   "mimetype": "text/x-python",
   "name": "python",
   "nbconvert_exporter": "python",
   "pygments_lexer": "ipython3",
   "version": "3.11.5"
  }
 },
 "nbformat": 4,
 "nbformat_minor": 5
}
