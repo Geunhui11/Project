{
 "cells": [
  {
   "cell_type": "code",
   "execution_count": 1,
   "id": "e6acc6ba",
   "metadata": {},
   "outputs": [],
   "source": [
    "import math\n",
    "from sympy import Derivative, Symbol, sin\n",
    "import time"
   ]
  },
  {
   "cell_type": "code",
   "execution_count": 2,
   "id": "ecb93b4c",
   "metadata": {},
   "outputs": [],
   "source": [
    "def newtons_method(x_0, f_double_prime, f_prime, x):\n",
    "    tol = 1e-6\n",
    "    x_old = x_0\n",
    "    \n",
    "    while True:\n",
    "        f_double_prime_val = f_double_prime.subs({x: x_old}).evalf()\n",
    "        f_prime_val = f_prime.subs({x: x_old}).evalf()\n",
    "        x_new = x_old - f_prime_val / f_double_prime_val\n",
    "        \n",
    "        if abs(x_new - x_old) < tol:\n",
    "            break\n",
    "        x_old = x_new\n",
    "    \n",
    "    return x_new"
   ]
  },
  {
   "cell_type": "code",
   "execution_count": 3,
   "id": "96085aa5",
   "metadata": {},
   "outputs": [],
   "source": [
    "def get_max_theta(R, theta):\n",
    "    R1theta = Derivative(R, theta).doit()\n",
    "    R2theta = Derivative(R1theta, theta).doit()\n",
    "    start_time = time.time() \n",
    "    theta0 = 45\n",
    "    theta_max = newtons_method(theta0, R2theta, R1theta, theta)\n",
    "    end_time = time.time()  \n",
    "    execution_time = end_time - start_time \n",
    "    \n",
    "    return theta_max, execution_time"
   ]
  },
  {
   "cell_type": "code",
   "execution_count": 4,
   "id": "cdcecc3b",
   "metadata": {},
   "outputs": [
    {
     "name": "stdout",
     "output_type": "stream",
     "text": [
      "what is the initial value?25\n",
      "Theta: 2565.0000000000005\n",
      "Maximum Range: 63.7322633111205\n",
      "Execution Time: 0.039384 seconds\n"
     ]
    }
   ],
   "source": [
    "if __name__ == '__main__':\n",
    "    g = 9.80665\n",
    "    u = float(input('what is the initial value?'))\n",
    "    theta = Symbol('theta')\n",
    "    R = (u**2) * sin(2*theta)/g\n",
    "    \n",
    "    theta_max, execution_time = get_max_theta(R, theta)\n",
    "    \n",
    "    print('Theta: {0}'.format(math.degrees(theta_max)))\n",
    "    print('Maximum Range: {0}'.format(R.subs({theta:theta_max})))\n",
    "    print('Execution Time: {0:.6f} seconds'.format(execution_time))"
   ]
  },
  {
   "cell_type": "code",
   "execution_count": null,
   "id": "c5eb1acb",
   "metadata": {},
   "outputs": [],
   "source": []
  }
 ],
 "metadata": {
  "kernelspec": {
   "display_name": "Python 3 (ipykernel)",
   "language": "python",
   "name": "python3"
  },
  "language_info": {
   "codemirror_mode": {
    "name": "ipython",
    "version": 3
   },
   "file_extension": ".py",
   "mimetype": "text/x-python",
   "name": "python",
   "nbconvert_exporter": "python",
   "pygments_lexer": "ipython3",
   "version": "3.11.5"
  }
 },
 "nbformat": 4,
 "nbformat_minor": 5
}
