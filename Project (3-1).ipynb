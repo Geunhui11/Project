{
 "cells": [
  {
   "cell_type": "code",
   "execution_count": 1,
   "id": "1b6bb67d",
   "metadata": {},
   "outputs": [],
   "source": [
    "import math\n",
    "from sympy import Derivative, Symbol, sin\n",
    "import time"
   ]
  },
  {
   "cell_type": "code",
   "execution_count": 2,
   "id": "c5c62a12",
   "metadata": {},
   "outputs": [],
   "source": [
    "def gradient_ascent(x_0, flx, x):\n",
    "    tolerance = 1e-6\n",
    "    alpha = 1e-4\n",
    "    x_old = x_0\n",
    "    x_new = x_old + alpha * flx.subs({x:x_old}).evalf()\n",
    "    \n",
    "    while abs(x_old - x_new) > tolerance:\n",
    "        x_old = x_new\n",
    "        x_new = x_old + alpha * flx.subs({x:x_old}).evalf()\n",
    "    \n",
    "    return x_new"
   ]
  },
  {
   "cell_type": "code",
   "execution_count": 3,
   "id": "e740110f",
   "metadata": {},
   "outputs": [],
   "source": [
    "def get_max_theta(R, theta):\n",
    "    R1theta = Derivative(R, theta).doit()\n",
    "    start_time = time.time()  # 시작 시간 측정\n",
    "    theta0 = 1e-3\n",
    "    theta_max = gradient_ascent(theta0, R1theta, theta)\n",
    "    end_time = time.time()  # 종료 시간 측정\n",
    "    execution_time = end_time - start_time\n",
    "    return theta_max, execution_time"
   ]
  },
  {
   "cell_type": "code",
   "execution_count": 4,
   "id": "624fe787",
   "metadata": {},
   "outputs": [
    {
     "name": "stdout",
     "output_type": "stream",
     "text": [
      "what is the initial value?25\n",
      "Theta: 44.99785585098667\n",
      "Maximum Range: 63.7322631326140\n",
      "Execution Time: 0.278365 seconds\n"
     ]
    }
   ],
   "source": [
    "if __name__ == '__main__':\n",
    "    g = 9.80665\n",
    "    u = float(input('what is the initial value?'))\n",
    "    theta = Symbol('theta')\n",
    "    R = (u**2) * sin(2*theta)/g\n",
    "    \n",
    "    theta_max, execution_time = get_max_theta(R, theta)\n",
    "    \n",
    "    print('Theta: {0}'.format(math.degrees(theta_max)))\n",
    "    print('Maximum Range: {0}'.format(R.subs({theta:theta_max})))\n",
    "    print('Execution Time: {0:.6f} seconds'.format(execution_time))"
   ]
  },
  {
   "cell_type": "markdown",
   "id": "eaa2552d",
   "metadata": {},
   "source": []
  }
 ],
 "metadata": {
  "kernelspec": {
   "display_name": "Python 3 (ipykernel)",
   "language": "python",
   "name": "python3"
  },
  "language_info": {
   "codemirror_mode": {
    "name": "ipython",
    "version": 3
   },
   "file_extension": ".py",
   "mimetype": "text/x-python",
   "name": "python",
   "nbconvert_exporter": "python",
   "pygments_lexer": "ipython3",
   "version": "3.11.5"
  }
 },
 "nbformat": 4,
 "nbformat_minor": 5
}
